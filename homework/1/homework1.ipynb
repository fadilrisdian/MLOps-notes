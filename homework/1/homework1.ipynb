{
 "cells": [
  {
   "cell_type": "code",
   "execution_count": 1,
   "id": "ec94b031",
   "metadata": {},
   "outputs": [],
   "source": [
    "import pandas as pd"
   ]
  },
  {
   "cell_type": "code",
   "execution_count": 37,
   "id": "7284d18b",
   "metadata": {},
   "outputs": [],
   "source": [
    "import seaborn as sns\n",
    "import matplotlib.pyplot as plt"
   ]
  },
  {
   "cell_type": "code",
   "execution_count": 41,
   "id": "26f32fef",
   "metadata": {},
   "outputs": [],
   "source": [
    "import numpy as np"
   ]
  },
  {
   "cell_type": "code",
   "execution_count": 4,
   "id": "74eefe16",
   "metadata": {},
   "outputs": [],
   "source": [
    "df = pd.read_parquet('fhv_tripdata_2021-01.parquet')"
   ]
  },
  {
   "cell_type": "code",
   "execution_count": 5,
   "id": "2a0f991f",
   "metadata": {
    "scrolled": true
   },
   "outputs": [
    {
     "data": {
      "text/html": [
       "<div>\n",
       "<style scoped>\n",
       "    .dataframe tbody tr th:only-of-type {\n",
       "        vertical-align: middle;\n",
       "    }\n",
       "\n",
       "    .dataframe tbody tr th {\n",
       "        vertical-align: top;\n",
       "    }\n",
       "\n",
       "    .dataframe thead th {\n",
       "        text-align: right;\n",
       "    }\n",
       "</style>\n",
       "<table border=\"1\" class=\"dataframe\">\n",
       "  <thead>\n",
       "    <tr style=\"text-align: right;\">\n",
       "      <th></th>\n",
       "      <th>dispatching_base_num</th>\n",
       "      <th>pickup_datetime</th>\n",
       "      <th>dropOff_datetime</th>\n",
       "      <th>PUlocationID</th>\n",
       "      <th>DOlocationID</th>\n",
       "      <th>SR_Flag</th>\n",
       "      <th>Affiliated_base_number</th>\n",
       "    </tr>\n",
       "  </thead>\n",
       "  <tbody>\n",
       "    <tr>\n",
       "      <th>0</th>\n",
       "      <td>B00009</td>\n",
       "      <td>2021-01-01 00:27:00</td>\n",
       "      <td>2021-01-01 00:44:00</td>\n",
       "      <td>NaN</td>\n",
       "      <td>NaN</td>\n",
       "      <td>None</td>\n",
       "      <td>B00009</td>\n",
       "    </tr>\n",
       "    <tr>\n",
       "      <th>1</th>\n",
       "      <td>B00009</td>\n",
       "      <td>2021-01-01 00:50:00</td>\n",
       "      <td>2021-01-01 01:07:00</td>\n",
       "      <td>NaN</td>\n",
       "      <td>NaN</td>\n",
       "      <td>None</td>\n",
       "      <td>B00009</td>\n",
       "    </tr>\n",
       "    <tr>\n",
       "      <th>2</th>\n",
       "      <td>B00013</td>\n",
       "      <td>2021-01-01 00:01:00</td>\n",
       "      <td>2021-01-01 01:51:00</td>\n",
       "      <td>NaN</td>\n",
       "      <td>NaN</td>\n",
       "      <td>None</td>\n",
       "      <td>B00013</td>\n",
       "    </tr>\n",
       "    <tr>\n",
       "      <th>3</th>\n",
       "      <td>B00037</td>\n",
       "      <td>2021-01-01 00:13:09</td>\n",
       "      <td>2021-01-01 00:21:26</td>\n",
       "      <td>NaN</td>\n",
       "      <td>72.0</td>\n",
       "      <td>None</td>\n",
       "      <td>B00037</td>\n",
       "    </tr>\n",
       "    <tr>\n",
       "      <th>4</th>\n",
       "      <td>B00037</td>\n",
       "      <td>2021-01-01 00:38:31</td>\n",
       "      <td>2021-01-01 00:53:44</td>\n",
       "      <td>NaN</td>\n",
       "      <td>61.0</td>\n",
       "      <td>None</td>\n",
       "      <td>B00037</td>\n",
       "    </tr>\n",
       "    <tr>\n",
       "      <th>...</th>\n",
       "      <td>...</td>\n",
       "      <td>...</td>\n",
       "      <td>...</td>\n",
       "      <td>...</td>\n",
       "      <td>...</td>\n",
       "      <td>...</td>\n",
       "      <td>...</td>\n",
       "    </tr>\n",
       "    <tr>\n",
       "      <th>1154107</th>\n",
       "      <td>B03266</td>\n",
       "      <td>2021-01-31 23:43:03</td>\n",
       "      <td>2021-01-31 23:51:48</td>\n",
       "      <td>7.0</td>\n",
       "      <td>7.0</td>\n",
       "      <td>None</td>\n",
       "      <td>B03266</td>\n",
       "    </tr>\n",
       "    <tr>\n",
       "      <th>1154108</th>\n",
       "      <td>B03284</td>\n",
       "      <td>2021-01-31 23:50:27</td>\n",
       "      <td>2021-02-01 00:48:03</td>\n",
       "      <td>44.0</td>\n",
       "      <td>91.0</td>\n",
       "      <td>None</td>\n",
       "      <td></td>\n",
       "    </tr>\n",
       "    <tr>\n",
       "      <th>1154109</th>\n",
       "      <td>B03285</td>\n",
       "      <td>2021-01-31 23:13:46</td>\n",
       "      <td>2021-01-31 23:29:58</td>\n",
       "      <td>171.0</td>\n",
       "      <td>171.0</td>\n",
       "      <td>None</td>\n",
       "      <td>B03285</td>\n",
       "    </tr>\n",
       "    <tr>\n",
       "      <th>1154110</th>\n",
       "      <td>B03285</td>\n",
       "      <td>2021-01-31 23:58:03</td>\n",
       "      <td>2021-02-01 00:17:29</td>\n",
       "      <td>15.0</td>\n",
       "      <td>15.0</td>\n",
       "      <td>None</td>\n",
       "      <td>B03285</td>\n",
       "    </tr>\n",
       "    <tr>\n",
       "      <th>1154111</th>\n",
       "      <td>B03321</td>\n",
       "      <td>2021-01-31 23:39:00</td>\n",
       "      <td>2021-02-01 00:15:00</td>\n",
       "      <td>NaN</td>\n",
       "      <td>NaN</td>\n",
       "      <td>None</td>\n",
       "      <td>B03321</td>\n",
       "    </tr>\n",
       "  </tbody>\n",
       "</table>\n",
       "<p>1154112 rows × 7 columns</p>\n",
       "</div>"
      ],
      "text/plain": [
       "        dispatching_base_num     pickup_datetime    dropOff_datetime  \\\n",
       "0                     B00009 2021-01-01 00:27:00 2021-01-01 00:44:00   \n",
       "1                     B00009 2021-01-01 00:50:00 2021-01-01 01:07:00   \n",
       "2                     B00013 2021-01-01 00:01:00 2021-01-01 01:51:00   \n",
       "3                     B00037 2021-01-01 00:13:09 2021-01-01 00:21:26   \n",
       "4                     B00037 2021-01-01 00:38:31 2021-01-01 00:53:44   \n",
       "...                      ...                 ...                 ...   \n",
       "1154107               B03266 2021-01-31 23:43:03 2021-01-31 23:51:48   \n",
       "1154108               B03284 2021-01-31 23:50:27 2021-02-01 00:48:03   \n",
       "1154109      B03285          2021-01-31 23:13:46 2021-01-31 23:29:58   \n",
       "1154110      B03285          2021-01-31 23:58:03 2021-02-01 00:17:29   \n",
       "1154111               B03321 2021-01-31 23:39:00 2021-02-01 00:15:00   \n",
       "\n",
       "         PUlocationID  DOlocationID SR_Flag Affiliated_base_number  \n",
       "0                 NaN           NaN    None                 B00009  \n",
       "1                 NaN           NaN    None                 B00009  \n",
       "2                 NaN           NaN    None                 B00013  \n",
       "3                 NaN          72.0    None                 B00037  \n",
       "4                 NaN          61.0    None                 B00037  \n",
       "...               ...           ...     ...                    ...  \n",
       "1154107           7.0           7.0    None                 B03266  \n",
       "1154108          44.0          91.0    None                         \n",
       "1154109         171.0         171.0    None        B03285           \n",
       "1154110          15.0          15.0    None        B03285           \n",
       "1154111           NaN           NaN    None                 B03321  \n",
       "\n",
       "[1154112 rows x 7 columns]"
      ]
     },
     "execution_count": 5,
     "metadata": {},
     "output_type": "execute_result"
    }
   ],
   "source": [
    "df"
   ]
  },
  {
   "cell_type": "code",
   "execution_count": 9,
   "id": "1d5761dc",
   "metadata": {
    "collapsed": true
   },
   "outputs": [
    {
     "data": {
      "text/plain": [
       "dispatching_base_num              object\n",
       "pickup_datetime           datetime64[ns]\n",
       "dropOff_datetime          datetime64[ns]\n",
       "PUlocationID                     float64\n",
       "DOlocationID                     float64\n",
       "SR_Flag                           object\n",
       "Affiliated_base_number            object\n",
       "dtype: object"
      ]
     },
     "execution_count": 9,
     "metadata": {},
     "output_type": "execute_result"
    }
   ],
   "source": [
    "df.dtypes"
   ]
  },
  {
   "cell_type": "code",
   "execution_count": 15,
   "id": "6c7719e8",
   "metadata": {},
   "outputs": [],
   "source": [
    "df['duration'] = df.dropOff_datetime - df.pickup_datetime"
   ]
  },
  {
   "cell_type": "code",
   "execution_count": 29,
   "id": "7b48a58b",
   "metadata": {},
   "outputs": [
    {
     "data": {
      "text/html": [
       "<div>\n",
       "<style scoped>\n",
       "    .dataframe tbody tr th:only-of-type {\n",
       "        vertical-align: middle;\n",
       "    }\n",
       "\n",
       "    .dataframe tbody tr th {\n",
       "        vertical-align: top;\n",
       "    }\n",
       "\n",
       "    .dataframe thead th {\n",
       "        text-align: right;\n",
       "    }\n",
       "</style>\n",
       "<table border=\"1\" class=\"dataframe\">\n",
       "  <thead>\n",
       "    <tr style=\"text-align: right;\">\n",
       "      <th></th>\n",
       "      <th>dispatching_base_num</th>\n",
       "      <th>pickup_datetime</th>\n",
       "      <th>dropOff_datetime</th>\n",
       "      <th>PUlocationID</th>\n",
       "      <th>DOlocationID</th>\n",
       "      <th>SR_Flag</th>\n",
       "      <th>Affiliated_base_number</th>\n",
       "      <th>duration</th>\n",
       "    </tr>\n",
       "  </thead>\n",
       "  <tbody>\n",
       "    <tr>\n",
       "      <th>0</th>\n",
       "      <td>B00009</td>\n",
       "      <td>2021-01-01 00:27:00</td>\n",
       "      <td>2021-01-01 00:44:00</td>\n",
       "      <td>NaN</td>\n",
       "      <td>NaN</td>\n",
       "      <td>None</td>\n",
       "      <td>B00009</td>\n",
       "      <td>0 days 00:17:00</td>\n",
       "    </tr>\n",
       "    <tr>\n",
       "      <th>1</th>\n",
       "      <td>B00009</td>\n",
       "      <td>2021-01-01 00:50:00</td>\n",
       "      <td>2021-01-01 01:07:00</td>\n",
       "      <td>NaN</td>\n",
       "      <td>NaN</td>\n",
       "      <td>None</td>\n",
       "      <td>B00009</td>\n",
       "      <td>0 days 00:17:00</td>\n",
       "    </tr>\n",
       "    <tr>\n",
       "      <th>2</th>\n",
       "      <td>B00013</td>\n",
       "      <td>2021-01-01 00:01:00</td>\n",
       "      <td>2021-01-01 01:51:00</td>\n",
       "      <td>NaN</td>\n",
       "      <td>NaN</td>\n",
       "      <td>None</td>\n",
       "      <td>B00013</td>\n",
       "      <td>0 days 01:50:00</td>\n",
       "    </tr>\n",
       "    <tr>\n",
       "      <th>3</th>\n",
       "      <td>B00037</td>\n",
       "      <td>2021-01-01 00:13:09</td>\n",
       "      <td>2021-01-01 00:21:26</td>\n",
       "      <td>NaN</td>\n",
       "      <td>72.0</td>\n",
       "      <td>None</td>\n",
       "      <td>B00037</td>\n",
       "      <td>0 days 00:08:17</td>\n",
       "    </tr>\n",
       "    <tr>\n",
       "      <th>4</th>\n",
       "      <td>B00037</td>\n",
       "      <td>2021-01-01 00:38:31</td>\n",
       "      <td>2021-01-01 00:53:44</td>\n",
       "      <td>NaN</td>\n",
       "      <td>61.0</td>\n",
       "      <td>None</td>\n",
       "      <td>B00037</td>\n",
       "      <td>0 days 00:15:13</td>\n",
       "    </tr>\n",
       "    <tr>\n",
       "      <th>...</th>\n",
       "      <td>...</td>\n",
       "      <td>...</td>\n",
       "      <td>...</td>\n",
       "      <td>...</td>\n",
       "      <td>...</td>\n",
       "      <td>...</td>\n",
       "      <td>...</td>\n",
       "      <td>...</td>\n",
       "    </tr>\n",
       "    <tr>\n",
       "      <th>1154107</th>\n",
       "      <td>B03266</td>\n",
       "      <td>2021-01-31 23:43:03</td>\n",
       "      <td>2021-01-31 23:51:48</td>\n",
       "      <td>7.0</td>\n",
       "      <td>7.0</td>\n",
       "      <td>None</td>\n",
       "      <td>B03266</td>\n",
       "      <td>0 days 00:08:45</td>\n",
       "    </tr>\n",
       "    <tr>\n",
       "      <th>1154108</th>\n",
       "      <td>B03284</td>\n",
       "      <td>2021-01-31 23:50:27</td>\n",
       "      <td>2021-02-01 00:48:03</td>\n",
       "      <td>44.0</td>\n",
       "      <td>91.0</td>\n",
       "      <td>None</td>\n",
       "      <td></td>\n",
       "      <td>0 days 00:57:36</td>\n",
       "    </tr>\n",
       "    <tr>\n",
       "      <th>1154109</th>\n",
       "      <td>B03285</td>\n",
       "      <td>2021-01-31 23:13:46</td>\n",
       "      <td>2021-01-31 23:29:58</td>\n",
       "      <td>171.0</td>\n",
       "      <td>171.0</td>\n",
       "      <td>None</td>\n",
       "      <td>B03285</td>\n",
       "      <td>0 days 00:16:12</td>\n",
       "    </tr>\n",
       "    <tr>\n",
       "      <th>1154110</th>\n",
       "      <td>B03285</td>\n",
       "      <td>2021-01-31 23:58:03</td>\n",
       "      <td>2021-02-01 00:17:29</td>\n",
       "      <td>15.0</td>\n",
       "      <td>15.0</td>\n",
       "      <td>None</td>\n",
       "      <td>B03285</td>\n",
       "      <td>0 days 00:19:26</td>\n",
       "    </tr>\n",
       "    <tr>\n",
       "      <th>1154111</th>\n",
       "      <td>B03321</td>\n",
       "      <td>2021-01-31 23:39:00</td>\n",
       "      <td>2021-02-01 00:15:00</td>\n",
       "      <td>NaN</td>\n",
       "      <td>NaN</td>\n",
       "      <td>None</td>\n",
       "      <td>B03321</td>\n",
       "      <td>0 days 00:36:00</td>\n",
       "    </tr>\n",
       "  </tbody>\n",
       "</table>\n",
       "<p>1154112 rows × 8 columns</p>\n",
       "</div>"
      ],
      "text/plain": [
       "        dispatching_base_num     pickup_datetime    dropOff_datetime  \\\n",
       "0                     B00009 2021-01-01 00:27:00 2021-01-01 00:44:00   \n",
       "1                     B00009 2021-01-01 00:50:00 2021-01-01 01:07:00   \n",
       "2                     B00013 2021-01-01 00:01:00 2021-01-01 01:51:00   \n",
       "3                     B00037 2021-01-01 00:13:09 2021-01-01 00:21:26   \n",
       "4                     B00037 2021-01-01 00:38:31 2021-01-01 00:53:44   \n",
       "...                      ...                 ...                 ...   \n",
       "1154107               B03266 2021-01-31 23:43:03 2021-01-31 23:51:48   \n",
       "1154108               B03284 2021-01-31 23:50:27 2021-02-01 00:48:03   \n",
       "1154109      B03285          2021-01-31 23:13:46 2021-01-31 23:29:58   \n",
       "1154110      B03285          2021-01-31 23:58:03 2021-02-01 00:17:29   \n",
       "1154111               B03321 2021-01-31 23:39:00 2021-02-01 00:15:00   \n",
       "\n",
       "         PUlocationID  DOlocationID SR_Flag Affiliated_base_number  \\\n",
       "0                 NaN           NaN    None                 B00009   \n",
       "1                 NaN           NaN    None                 B00009   \n",
       "2                 NaN           NaN    None                 B00013   \n",
       "3                 NaN          72.0    None                 B00037   \n",
       "4                 NaN          61.0    None                 B00037   \n",
       "...               ...           ...     ...                    ...   \n",
       "1154107           7.0           7.0    None                 B03266   \n",
       "1154108          44.0          91.0    None                          \n",
       "1154109         171.0         171.0    None        B03285            \n",
       "1154110          15.0          15.0    None        B03285            \n",
       "1154111           NaN           NaN    None                 B03321   \n",
       "\n",
       "               duration  \n",
       "0       0 days 00:17:00  \n",
       "1       0 days 00:17:00  \n",
       "2       0 days 01:50:00  \n",
       "3       0 days 00:08:17  \n",
       "4       0 days 00:15:13  \n",
       "...                 ...  \n",
       "1154107 0 days 00:08:45  \n",
       "1154108 0 days 00:57:36  \n",
       "1154109 0 days 00:16:12  \n",
       "1154110 0 days 00:19:26  \n",
       "1154111 0 days 00:36:00  \n",
       "\n",
       "[1154112 rows x 8 columns]"
      ]
     },
     "execution_count": 29,
     "metadata": {},
     "output_type": "execute_result"
    }
   ],
   "source": [
    "df"
   ]
  },
  {
   "cell_type": "code",
   "execution_count": null,
   "id": "3a106545",
   "metadata": {},
   "outputs": [],
   "source": [
    "# lambda is used to apply every element on column"
   ]
  },
  {
   "cell_type": "code",
   "execution_count": 31,
   "id": "150a4ad6",
   "metadata": {},
   "outputs": [],
   "source": [
    "df.duration = df.duration.apply(lambda td: td.total_seconds() / 60)"
   ]
  },
  {
   "cell_type": "code",
   "execution_count": 33,
   "id": "42134ef0",
   "metadata": {},
   "outputs": [
    {
     "data": {
      "text/plain": [
       "19.1672240937939"
      ]
     },
     "execution_count": 33,
     "metadata": {},
     "output_type": "execute_result"
    }
   ],
   "source": [
    "df.duration.mean()"
   ]
  },
  {
   "cell_type": "code",
   "execution_count": 35,
   "id": "b177ec4a",
   "metadata": {},
   "outputs": [
    {
     "data": {
      "text/plain": [
       "0           17.000000\n",
       "1           17.000000\n",
       "2          110.000000\n",
       "3            8.283333\n",
       "4           15.216667\n",
       "              ...    \n",
       "1154107      8.750000\n",
       "1154108     57.600000\n",
       "1154109     16.200000\n",
       "1154110     19.433333\n",
       "1154111     36.000000\n",
       "Name: duration, Length: 1154112, dtype: float64"
      ]
     },
     "execution_count": 35,
     "metadata": {},
     "output_type": "execute_result"
    }
   ],
   "source": [
    "df.duration"
   ]
  },
  {
   "cell_type": "code",
   "execution_count": 34,
   "id": "a29e0da8",
   "metadata": {},
   "outputs": [
    {
     "data": {
      "text/plain": [
       "count    1.154112e+06\n",
       "mean     1.916722e+01\n",
       "std      3.986922e+02\n",
       "min      1.666667e-02\n",
       "25%      7.766667e+00\n",
       "50%      1.340000e+01\n",
       "75%      2.228333e+01\n",
       "max      4.233710e+05\n",
       "Name: duration, dtype: float64"
      ]
     },
     "execution_count": 34,
     "metadata": {},
     "output_type": "execute_result"
    }
   ],
   "source": [
    "df.duration.describe()"
   ]
  },
  {
   "cell_type": "code",
   "execution_count": 39,
   "id": "92911299",
   "metadata": {},
   "outputs": [
    {
     "data": {
      "image/png": "[encoded data removed]",
      "text/plain": [
       "<Figure size 432x288 with 1 Axes>"
      ]
     },
     "metadata": {
      "needs_background": "light"
     },
     "output_type": "display_data"
    },
    {
     "data": {
      "text/plain": [
       "<Figure size 720x504 with 0 Axes>"
      ]
     },
     "metadata": {},
     "output_type": "display_data"
    }
   ],
   "source": [
    "plt.boxplot(df.duration)\n",
    "fig = plt.figure(figsize =(10, 7))\n",
    "plt.show()\n"
   ]
  },
  {
   "cell_type": "code",
   "execution_count": 42,
   "id": "4e13a40e",
   "metadata": {},
   "outputs": [
    {
     "name": "stdout",
     "output_type": "stream",
     "text": [
      "14.51666666666667 44.05833333333334 -14.00833333333334\n"
     ]
    }
   ],
   "source": [
    "# finding the 1st quartile\n",
    "q1 = np.quantile(df.duration, 0.25)\n",
    "\n",
    "# finding the 3rd quartile\n",
    "q3 = np.quantile(df.duration, 0.75)\n",
    "med = np.median(df.duration)\n",
    "\n",
    "# finding the iqr region\n",
    "iqr = q3-q1\n",
    "\n",
    "# finding upper and lower whiskers\n",
    "upper_bound = q3+(1.5*iqr)\n",
    "lower_bound = q1-(1.5*iqr)\n",
    "print(iqr, upper_bound, lower_bound)\n"
   ]
  },
  {
   "cell_type": "code",
   "execution_count": 45,
   "id": "288c3f77",
   "metadata": {},
   "outputs": [
    {
     "name": "stdout",
     "output_type": "stream",
     "text": [
      "The following are the outliers in the boxplot:\n",
      "2          110.000000\n",
      "16          61.000000\n",
      "46          47.216667\n",
      "58          46.950000\n",
      "221         47.766667\n",
      "              ...    \n",
      "1153886     47.000000\n",
      "1153888     56.000000\n",
      "1153916     47.616667\n",
      "1153929    139.283333\n",
      "1154108     57.600000\n",
      "Name: duration, Length: 69359, dtype: float64\n"
     ]
    }
   ],
   "source": [
    "outliers = df.duration[(df.duration <= lower_bound) | (df.duration >= upper_bound)]\n",
    "print('The following are the outliers in the boxplot:')\n",
    "print('{}'.format(outliers))"
   ]
  },
  {
   "cell_type": "code",
   "execution_count": 44,
   "id": "15f6da40",
   "metadata": {},
   "outputs": [
    {
     "data": {
      "text/plain": [
       "2          110.000000\n",
       "16          61.000000\n",
       "46          47.216667\n",
       "58          46.950000\n",
       "221         47.766667\n",
       "              ...    \n",
       "1153886     47.000000\n",
       "1153888     56.000000\n",
       "1153916     47.616667\n",
       "1153929    139.283333\n",
       "1154108     57.600000\n",
       "Name: duration, Length: 69359, dtype: float64"
      ]
     },
     "execution_count": 44,
     "metadata": {},
     "output_type": "execute_result"
    }
   ],
   "source": [
    "outliers"
   ]
  }
 ],
 "metadata": {
  "kernelspec": {
   "display_name": "Python 3 (ipykernel)",
   "language": "python",
   "name": "python3"
  },
  "language_info": {
   "codemirror_mode": {
    "name": "ipython",
    "version": 3
   },
   "file_extension": ".py",
   "mimetype": "text/x-python",
   "name": "python",
   "nbconvert_exporter": "python",
   "pygments_lexer": "ipython3",
   "version": "3.9.12"
  }
 },
 "nbformat": 4,
 "nbformat_minor": 5
}
